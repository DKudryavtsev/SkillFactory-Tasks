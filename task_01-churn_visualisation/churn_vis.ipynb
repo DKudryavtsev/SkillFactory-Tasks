{
 "cells": [
  {
   "cell_type": "code",
   "execution_count": 1,
   "metadata": {},
   "outputs": [
    {
     "data": {
      "text/html": [
       "<div>\n",
       "<style scoped>\n",
       "    .dataframe tbody tr th:only-of-type {\n",
       "        vertical-align: middle;\n",
       "    }\n",
       "\n",
       "    .dataframe tbody tr th {\n",
       "        vertical-align: top;\n",
       "    }\n",
       "\n",
       "    .dataframe thead th {\n",
       "        text-align: right;\n",
       "    }\n",
       "</style>\n",
       "<table border=\"1\" class=\"dataframe\">\n",
       "  <thead>\n",
       "    <tr style=\"text-align: right;\">\n",
       "      <th></th>\n",
       "      <th>CustomerId</th>\n",
       "      <th>Surname</th>\n",
       "      <th>CreditScore</th>\n",
       "      <th>Geography</th>\n",
       "      <th>Gender</th>\n",
       "      <th>Age</th>\n",
       "      <th>Tenure</th>\n",
       "      <th>Balance</th>\n",
       "      <th>NumOfProducts</th>\n",
       "      <th>HasCrCard</th>\n",
       "      <th>IsActiveMember</th>\n",
       "      <th>EstimatedSalary</th>\n",
       "      <th>Exited</th>\n",
       "    </tr>\n",
       "  </thead>\n",
       "  <tbody>\n",
       "    <tr>\n",
       "      <th>0</th>\n",
       "      <td>15634602</td>\n",
       "      <td>Hargrave</td>\n",
       "      <td>619</td>\n",
       "      <td>France</td>\n",
       "      <td>Female</td>\n",
       "      <td>42</td>\n",
       "      <td>2</td>\n",
       "      <td>0.00</td>\n",
       "      <td>1</td>\n",
       "      <td>1</td>\n",
       "      <td>1</td>\n",
       "      <td>101348.88</td>\n",
       "      <td>1</td>\n",
       "    </tr>\n",
       "    <tr>\n",
       "      <th>1</th>\n",
       "      <td>15647311</td>\n",
       "      <td>Hill</td>\n",
       "      <td>608</td>\n",
       "      <td>Spain</td>\n",
       "      <td>Female</td>\n",
       "      <td>41</td>\n",
       "      <td>1</td>\n",
       "      <td>83807.86</td>\n",
       "      <td>1</td>\n",
       "      <td>0</td>\n",
       "      <td>1</td>\n",
       "      <td>112542.58</td>\n",
       "      <td>0</td>\n",
       "    </tr>\n",
       "    <tr>\n",
       "      <th>2</th>\n",
       "      <td>15619304</td>\n",
       "      <td>Onio</td>\n",
       "      <td>502</td>\n",
       "      <td>France</td>\n",
       "      <td>Female</td>\n",
       "      <td>42</td>\n",
       "      <td>8</td>\n",
       "      <td>159660.80</td>\n",
       "      <td>3</td>\n",
       "      <td>1</td>\n",
       "      <td>0</td>\n",
       "      <td>113931.57</td>\n",
       "      <td>1</td>\n",
       "    </tr>\n",
       "    <tr>\n",
       "      <th>3</th>\n",
       "      <td>15701354</td>\n",
       "      <td>Boni</td>\n",
       "      <td>699</td>\n",
       "      <td>France</td>\n",
       "      <td>Female</td>\n",
       "      <td>39</td>\n",
       "      <td>1</td>\n",
       "      <td>0.00</td>\n",
       "      <td>2</td>\n",
       "      <td>0</td>\n",
       "      <td>0</td>\n",
       "      <td>93826.63</td>\n",
       "      <td>0</td>\n",
       "    </tr>\n",
       "    <tr>\n",
       "      <th>4</th>\n",
       "      <td>15737888</td>\n",
       "      <td>Mitchell</td>\n",
       "      <td>850</td>\n",
       "      <td>Spain</td>\n",
       "      <td>Female</td>\n",
       "      <td>43</td>\n",
       "      <td>2</td>\n",
       "      <td>125510.82</td>\n",
       "      <td>1</td>\n",
       "      <td>1</td>\n",
       "      <td>1</td>\n",
       "      <td>79084.10</td>\n",
       "      <td>0</td>\n",
       "    </tr>\n",
       "  </tbody>\n",
       "</table>\n",
       "</div>"
      ],
      "text/plain": [
       "   CustomerId   Surname  CreditScore Geography  Gender  Age  Tenure  \\\n",
       "0    15634602  Hargrave          619    France  Female   42       2   \n",
       "1    15647311      Hill          608     Spain  Female   41       1   \n",
       "2    15619304      Onio          502    France  Female   42       8   \n",
       "3    15701354      Boni          699    France  Female   39       1   \n",
       "4    15737888  Mitchell          850     Spain  Female   43       2   \n",
       "\n",
       "     Balance  NumOfProducts  HasCrCard  IsActiveMember  EstimatedSalary  \\\n",
       "0       0.00              1          1               1        101348.88   \n",
       "1   83807.86              1          0               1        112542.58   \n",
       "2  159660.80              3          1               0        113931.57   \n",
       "3       0.00              2          0               0         93826.63   \n",
       "4  125510.82              1          1               1         79084.10   \n",
       "\n",
       "   Exited  \n",
       "0       1  \n",
       "1       0  \n",
       "2       1  \n",
       "3       0  \n",
       "4       0  "
      ]
     },
     "execution_count": 1,
     "metadata": {},
     "output_type": "execute_result"
    }
   ],
   "source": [
    "import pandas as pd\n",
    "import plotly.express as px\n",
    "import plotly.figure_factory as ff\n",
    "churn_data = pd.read_csv('data/churn.csv')\n",
    "churn_data = churn_data.drop('RowNumber', axis=1)\n",
    "churn_data.head()"
   ]
  },
  {
   "cell_type": "code",
   "execution_count": 3,
   "metadata": {},
   "outputs": [],
   "source": [
    "loyalty = churn_data['Exited'].value_counts()\n",
    "\n",
    "fig = px.pie(names=['loyal', 'lost'],\n",
    "             values=loyalty,\n",
    "             title='Customer Loyalty',\n",
    "             width=500,\n",
    "             height=400,\n",
    ")\n",
    "fig.write_image('data/loyalty.png')"
   ]
  },
  {
   "cell_type": "markdown",
   "metadata": {},
   "source": [
    "![](data/loyalty.png)"
   ]
  },
  {
   "cell_type": "markdown",
   "metadata": {},
   "source": [
    "9.1. Исходя из представленных данных, примерно каждый пятый клиент покинул банк."
   ]
  },
  {
   "cell_type": "code",
   "execution_count": 4,
   "metadata": {},
   "outputs": [],
   "source": [
    "clients_2500 = churn_data[churn_data['Balance'] > 2500]\n",
    "\n",
    "fig = px.histogram(clients_2500,\n",
    "                   x='Balance',\n",
    "                   color_discrete_sequence=['limegreen'],\n",
    "                   title='Balance Distribution',\n",
    "                   nbins=100,\n",
    "                   width=647,\n",
    "                   height=400                  \n",
    ")\n",
    "fig.layout.yaxis.title.text = 'Number of clients'\n",
    "fig.write_image('data/balance.png')"
   ]
  },
  {
   "cell_type": "markdown",
   "metadata": {},
   "source": [
    "![](data/balance.png)"
   ]
  },
  {
   "cell_type": "markdown",
   "metadata": {},
   "source": [
    "9.2. Основная масса клиентов имеют на счетах суммы примерно от 50 до 200 тысяч, наиболее типичная сумма (пик распределения) составляет 105-130 тысяч. У банка нет клиентов-миллионеров - максимальная сумма на счете порядка 250 тысяч. Распределение балансов в целом похоже на нормальное."
   ]
  },
  {
   "cell_type": "code",
   "execution_count": 6,
   "metadata": {},
   "outputs": [],
   "source": [
    "clients_2500 = clients_2500.copy()\n",
    "clients_2500['Loyalty'] = clients_2500['Exited'].apply(lambda x: 'loyal' if x==0 else 'lost')\n",
    "\n",
    "fig = px.box(clients_2500, \n",
    "             x='Balance',\n",
    "             color='Loyalty',\n",
    "             title='Loyalty Depending on the Balance',\n",
    "             width=647,\n",
    "             height=400\n",
    ")\n",
    "fig.layout.legend.title = None\n",
    "fig.write_image('data/loyalty_balance.png')"
   ]
  },
  {
   "cell_type": "markdown",
   "metadata": {},
   "source": [
    "![](data/loyalty_balance.png)"
   ]
  },
  {
   "cell_type": "markdown",
   "metadata": {},
   "source": [
    "9.3. Медианные значения распределений практически не отличаются, однако распределение ушедших клиентов более узкое по сравнению с распределением лояльных: его границы лежат ближе к медиане. Можно сказать, что среди клиентов \"среднего класса\" тенденция ухода выше. Возможно, банк уделяет недостаточно внимания удержанию этой наиболее многочисленной категории, а конкуренты предлагают более выгодные условия для счетов среднего размера. В то же время стоит отметить, что из банка ушли как два самых \"богатых\", так и два самых \"бедных\" клиента - крайние точки аномальных выбросов на распределении ушедших клиентов расположены шире, чем на распределении лояльных, однако эти единичные случаи не влияют на общую картину."
   ]
  },
  {
   "cell_type": "code",
   "execution_count": 8,
   "metadata": {},
   "outputs": [],
   "source": [
    "fig = px.histogram(clients_2500,\n",
    "                   x='Age',\n",
    "                   title='Loyalty Depending on the Age',\n",
    "                   color='Loyalty',\n",
    "                   barmode='group',\n",
    "                   marginal='box',\n",
    "                   nbins=100,\n",
    "                   width=647,\n",
    "                   height=400                  \n",
    ")\n",
    "fig.layout.yaxis.title.text = 'Number of clients'\n",
    "fig.layout.legend.title = None\n",
    "fig.write_image('data/loyalty_age.png')"
   ]
  },
  {
   "cell_type": "markdown",
   "metadata": {},
   "source": [
    "![](data/loyalty_age.png)"
   ]
  },
  {
   "cell_type": "markdown",
   "metadata": {},
   "source": [
    "9.4. Наблюдаются значительные возрастные отличия между группами лояльных и нелояльных клиентов. Надежными клиентами банка являются люди в возрасте 30-40 лет - эта возрастная категория формирует наиболее многочисленную группу лояльных клиентов. Распределение лояльных клиентов также показывает большое количество аномальных выбросов (хвост распределения) для старшего возраста 55 и более лет, что может означать, что пожилые люди также удовлетворены банком, однако их количество относительно мало. Особое внимание следует уделить возрастной категории 40-50 лет - люди именно этого возраста чаще всего уходят из банка, однако долговременную заинтересованность стоит начинать формировать раньше, до возраста 38-39 лет, с которого начинается тенденция потери интереса к услугам банка."
   ]
  },
  {
   "cell_type": "code",
   "execution_count": 10,
   "metadata": {},
   "outputs": [],
   "source": [
    "fig = px.scatter(clients_2500,\n",
    "                 x='EstimatedSalary',\n",
    "                 y='CreditScore',\n",
    "                 color='Loyalty',\n",
    "                 labels={'EstimatedSalary': 'Estimated salary', 'CreditScore': 'Credit score'},\n",
    "                 title='Credit Score vs Salary',\n",
    "                 height=400                \n",
    ")\n",
    "fig.layout.legend.title = None\n",
    "fig.write_image('data/scores.png')"
   ]
  },
  {
   "cell_type": "markdown",
   "metadata": {},
   "source": [
    "![](data/scores.png)"
   ]
  },
  {
   "cell_type": "markdown",
   "metadata": {},
   "source": [
    "9.5. Все клиенты с предельно низким кредитным рейтингом (менее 400) покинули банк. Можно заметить концентрацию к значениям рейтинга 500-800 независимо от уровня заработной платы и лояльности. В остальном закономерностей и взаимосвязи между признаками не наблюдается. Виден \"потолок\" максимально возможного кредитного рейтинга - 850, есть довольно большое количество клиентов с максимальным рейтингом."
   ]
  },
  {
   "cell_type": "code",
   "execution_count": 12,
   "metadata": {},
   "outputs": [],
   "source": [
    "by_gender = clients_2500.groupby('Gender', as_index=False)['Exited'].mean()\n",
    "by_gender['Exited'] = by_gender['Exited'] * 100\n",
    "\n",
    "fig = px.bar(by_gender,\n",
    "             x='Gender',\n",
    "             y='Exited',\n",
    "             color='Gender',\n",
    "             color_discrete_map={'Female': 'LightCoral', 'Male': 'LightSeaGreen'},\n",
    "             labels={'Exited': 'Lost clients, %'},\n",
    "             title='Lost Clients by Gender',\n",
    "             width=247,\n",
    "             height=400 \n",
    ")\n",
    "fig.update_layout(showlegend=False)\n",
    "fig.update_xaxes(tickangle=30)\n",
    "fig.write_image('data/gender.png')"
   ]
  },
  {
   "cell_type": "markdown",
   "metadata": {},
   "source": [
    "![](data/gender.png)"
   ]
  },
  {
   "cell_type": "markdown",
   "metadata": {},
   "source": [
    "9.6. Женщины гораздо чаще покидают банк: 30% ушедших клиентов против 20% среди мужчин. Цифры немного не согласуются с указанными в первом рисунке (Customer Loyalty) из-за того, что сейчас мы рассматриваем только клиентов с балансом счета более 2500."
   ]
  },
  {
   "cell_type": "code",
   "execution_count": 14,
   "metadata": {},
   "outputs": [],
   "source": [
    "by_products = clients_2500.groupby('NumOfProducts')['Exited'].agg(['sum', 'count']).reset_index()\n",
    "by_products.rename(columns={'sum': 'lost'}, inplace=True)\n",
    "by_products['loyal'] = by_products['count'] - by_products['lost']\n",
    "by_products.drop('count', axis=1, inplace=True)\n",
    "\n",
    "fig = px.bar(by_products, \n",
    "             x=\"NumOfProducts\", \n",
    "             y=[\"loyal\", \"lost\"],\n",
    "             barmode='group',\n",
    "             title='Loyalty Depending on the Number of Products',\n",
    "             width=490,\n",
    "             height=400\n",
    ")\n",
    "fig.layout.xaxis.title = 'Number of products'\n",
    "fig.layout.yaxis.title = 'Number of clients'\n",
    "fig.layout.legend.title = None\n",
    "fig.write_image('data/products.png')"
   ]
  },
  {
   "cell_type": "markdown",
   "metadata": {},
   "source": [
    "![](data/products.png)"
   ]
  },
  {
   "cell_type": "markdown",
   "metadata": {},
   "source": [
    "9.7. Наименьший относительный отток наблюдается среди клиентов, которые приобрели две услуги. При этом количество клиентов с одной услугой больше, но и относительный отток у них выше (уходит четверть клиентов). Почти все клиенты, которые приобрели 3 или 4 услуги, покинули банк - у этих категорий относительный отток максимальный, близкий к 100%, но общее количество этих клиентов не так велико."
   ]
  },
  {
   "cell_type": "code",
   "execution_count": 15,
   "metadata": {},
   "outputs": [],
   "source": [
    "by_activity = clients_2500.groupby('IsActiveMember')['Exited'].agg(['sum', 'count']).reset_index()\n",
    "by_activity.rename(columns={'sum': 'lost'}, inplace=True)\n",
    "by_activity['loyal'] = by_activity['count'] - by_activity['lost']\n",
    "by_activity.drop('count', axis=1, inplace=True)\n",
    "by_activity.loc[0, 'IsActiveMember'] = 'inactive'\n",
    "by_activity.loc[1, 'IsActiveMember'] = 'active'\n",
    "\n",
    "fig = px.bar(by_activity, \n",
    "             x=\"IsActiveMember\", \n",
    "             y=[\"loyal\", \"lost\"],\n",
    "             barmode='group',\n",
    "             title='Loyalty Depending on the Activity',\n",
    "             width=323,\n",
    "             height=400\n",
    ")\n",
    "fig.layout.xaxis.title = None\n",
    "fig.layout.yaxis.title = 'Number of Clients'\n",
    "fig.layout.legend.title = None\n",
    "fig.write_image('data/activity.png')"
   ]
  },
  {
   "cell_type": "markdown",
   "metadata": {},
   "source": [
    "![](data/activity.png)"
   ]
  },
  {
   "cell_type": "markdown",
   "metadata": {},
   "source": [
    " 9.8. У банка довольно большое количество неактивных клиентов, среди которых отток значительно больше, чем среди активных. Уменьшать отток среди неактивных клиентов (пардон, но так сформулирован вопрос к заданию), на мой взгляд, довольно бесперспективная идея, т.к. отсутствие активности в общем случае сигнализирует об отсутствии интереса. Более разумно стимулировать клиентов к переходу в разряд активных. Сделать это можно, например, предоставлением различных бонусов за операции по карте: кэшбэк, процент на остаток по расчетному счету, бонусы на приобретение услуг у партнеров, - а также развитием сервиса по проведению различных платежей - страховки, билеты, переводы, предоставлением удобного доступа к различным финансовым инструментам и пр. В целом, для выставления каких-либо рекомендаций необходимо хорошо знать уже существующие программы лояльности банка и инструменты взаимодействия с клиентами, а также анализировать предложения и преимущества конкурентов."
   ]
  },
  {
   "cell_type": "code",
   "execution_count": 16,
   "metadata": {},
   "outputs": [],
   "source": [
    "by_country = clients_2500.groupby('Geography', as_index=False)['Exited'].mean()\n",
    "by_country['Churn rate, %'] = by_country['Exited'] * 100\n",
    "\n",
    "fig = px.choropleth(\n",
    "    data_frame=by_country, \n",
    "    locations=\"Geography\", \n",
    "    locationmode = \"country names\", \n",
    "    color=\"Churn rate, %\", \n",
    "    range_color=[0, 50],\n",
    "    title='Geography of Lost Clients', \n",
    "    scope='europe',\n",
    "    fitbounds='locations',\n",
    "    width=500, \n",
    "    height=500,\n",
    "    color_continuous_scale='Reds'\n",
    ")\n",
    "fig.write_image('data/countries.png')"
   ]
  },
  {
   "cell_type": "markdown",
   "metadata": {},
   "source": [
    "![](data/countries.png)"
   ]
  },
  {
   "cell_type": "markdown",
   "metadata": {},
   "source": [
    "9.9. Наибольший отток клиентов в Германии: более 30%. Поскольку все три страны примерно одинаковы по уровню благосостояния, вероятными причинами могут быть появление в Германии более привлекательного национального банка, предлагающего более подходящие решения для граждан Германии. Также возможно снижение лояльности в силу политических причин."
   ]
  },
  {
   "cell_type": "code",
   "execution_count": 17,
   "metadata": {},
   "outputs": [],
   "source": [
    "def get_credit_score_cat(credit_score):\n",
    "    if credit_score >= 300 and credit_score < 500:\n",
    "        return \"Very poor\"\n",
    "    elif credit_score >= 500 and credit_score < 601:\n",
    "        return \"Poor\"\n",
    "    elif credit_score >= 601 and credit_score < 661:\n",
    "        return \"Fair\"\n",
    "    elif credit_score >= 661 and credit_score < 781:\n",
    "        return \"Good\"\n",
    "    elif credit_score >= 781 and credit_score < 851:\n",
    "        return \"Excellent\"\n",
    "    elif credit_score >= 851:\n",
    "        return \"Top\"\n",
    "    elif credit_score < 300:\n",
    "        return \"Deep\"\n",
    "    \n",
    "\n",
    "clients_2500['CreditScoreCat'] = clients_2500['CreditScore'].apply(get_credit_score_cat)\n",
    "by_score_tenure = pd.pivot_table(\n",
    "    clients_2500,\n",
    "    values='Exited',\n",
    "    index='CreditScoreCat',\n",
    "    columns='Tenure',\n",
    "    aggfunc='mean'                             \n",
    ")\n",
    "by_score_tenure = (by_score_tenure * 100).round(1)\n",
    "\n",
    "fig = ff.create_annotated_heatmap(\n",
    "    z=by_score_tenure.to_numpy(),\n",
    "    x=by_score_tenure.columns.tolist(),\n",
    "    y=by_score_tenure.index.tolist(), \n",
    "    colorscale='Reds',\n",
    "    zmin=0, zmax=50,\n",
    "    showscale=True   \n",
    ")\n",
    "fig.add_annotation(x=1.17,\n",
    "                   y=1.09,\n",
    "                   showarrow=False,\n",
    "                   text=\"Churn rate, %\",\n",
    "                   xref=\"paper\",\n",
    "                   yref=\"paper\"\n",
    ")\n",
    "fig.update_layout(width=647, height=400)\n",
    "fig.layout.xaxis.title = 'Tenure'\n",
    "fig.layout.yaxis.title = 'Credit score'\n",
    "fig.layout.title = 'Churn Rate Heatmap'\n",
    "fig.write_image('data/churn_heatmap.png')"
   ]
  },
  {
   "cell_type": "markdown",
   "metadata": {},
   "source": [
    "![](data/churn_heatmap.png)"
   ]
  },
  {
   "cell_type": "markdown",
   "metadata": {},
   "source": [
    "9.10. Самый большой отток (более 45%) у клиентов с очень плохим кредитным рейтингом и минимальным стажем пользования услугами банка (менее года). За ними следуют клиенты с таким же очень плохим рейтингом, но большим стажем 4 года или 10 лет (отток около 36%). Также довольно большой отток у клиентов с прекрасным рейтингом и стажем 0 или 9 лет (отток около 35%). Можно заметить, что отток более \"стабилен\" по годам для средних показателей рейтинга, в то время как у клиентов с очень плохим или, наоборот, прекрасным рейтингом отток резко колеблется от минимумов к максимумам в зависимости от количества лет."
   ]
  }
 ],
 "metadata": {
  "interpreter": {
   "hash": "a5a3710c6f02857820b2117583bc8e6356ad2e83e247407a61d72425fc316462"
  },
  "kernelspec": {
   "display_name": "Python 3.8.12 64-bit ('DS': conda)",
   "language": "python",
   "name": "python3"
  },
  "language_info": {
   "codemirror_mode": {
    "name": "ipython",
    "version": 3
   },
   "file_extension": ".py",
   "mimetype": "text/x-python",
   "name": "python",
   "nbconvert_exporter": "python",
   "pygments_lexer": "ipython3",
   "version": "3.8.12"
  },
  "orig_nbformat": 4
 },
 "nbformat": 4,
 "nbformat_minor": 2
}
