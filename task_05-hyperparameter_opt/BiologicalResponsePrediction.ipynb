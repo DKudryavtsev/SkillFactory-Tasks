{
 "cells": [
  {
   "cell_type": "markdown",
   "metadata": {},
   "source": [
    "# Прогнозирование биологического ответа\n",
    "\n",
    "**SkillFactory DSPR-2.0**\n",
    "\n",
    "**ML-7: Оптимизация гиперпараметров. Практика**"
   ]
  },
  {
   "cell_type": "markdown",
   "metadata": {},
   "source": [
    "*Необходимо предсказать биологический ответ молекул по их химическому составу.*\n",
    "\n",
    "*Первый столбец (Activity) содержит экспериментальные данные, описывающие фактический биологический ответ: [0, 1]; остальные столбцы D1-D1776 представляют собой молекулярные дескрипторы — это вычисляемые свойства, которые могут фиксировать некоторые характеристики молекулы, например размер, форму или состав элементов.*\n",
    "\n",
    "*Предварительная обработка не требуется, данные закодированы и нормализованы.*\n",
    "\n",
    "*В качестве метрики использовать F1-score.*\n",
    "\n",
    "*Необходимо обучить две модели: логистическую регрессию и случайный лес. Далее нужно сделать подбор гиперпараметров с помощью базовых и продвинутых методов оптимизации. Важно использовать все четыре метода (GridSeachCV, RandomizedSearchCV, Hyperopt, Optuna), максимальное количество итераций не должно превышать 50.*"
   ]
  },
  {
   "cell_type": "markdown",
   "metadata": {},
   "source": [
    "## 1. Оценка данных"
   ]
  },
  {
   "cell_type": "code",
   "execution_count": 20,
   "metadata": {},
   "outputs": [],
   "source": [
    "import pandas as pd\n",
    "import numpy as np\n",
    "from sklearn.model_selection import train_test_split\n",
    "from sklearn.linear_model import LogisticRegression\n",
    "from sklearn.ensemble import RandomForestClassifier\n",
    "from sklearn.metrics import f1_score\n",
    "from sklearn.model_selection import GridSearchCV\n",
    "from sklearn.model_selection import RandomizedSearchCV\n",
    "from sklearn.model_selection import cross_val_score\n",
    "from hyperopt import hp, fmin, tpe, Trials\n",
    "import optuna\n",
    "from scipy.stats import uniform\n",
    "\n",
    "RANDOM_STATE = 42\n",
    "np.random.seed(RANDOM_STATE)"
   ]
  },
  {
   "cell_type": "code",
   "execution_count": 42,
   "metadata": {},
   "outputs": [
    {
     "data": {
      "text/html": [
       "<div>\n",
       "<style scoped>\n",
       "    .dataframe tbody tr th:only-of-type {\n",
       "        vertical-align: middle;\n",
       "    }\n",
       "\n",
       "    .dataframe tbody tr th {\n",
       "        vertical-align: top;\n",
       "    }\n",
       "\n",
       "    .dataframe thead th {\n",
       "        text-align: right;\n",
       "    }\n",
       "</style>\n",
       "<table border=\"1\" class=\"dataframe\">\n",
       "  <thead>\n",
       "    <tr style=\"text-align: right;\">\n",
       "      <th></th>\n",
       "      <th>Activity</th>\n",
       "      <th>D1</th>\n",
       "      <th>D2</th>\n",
       "      <th>D3</th>\n",
       "      <th>D4</th>\n",
       "      <th>D5</th>\n",
       "      <th>D6</th>\n",
       "      <th>D7</th>\n",
       "      <th>D8</th>\n",
       "      <th>D9</th>\n",
       "      <th>...</th>\n",
       "      <th>D1767</th>\n",
       "      <th>D1768</th>\n",
       "      <th>D1769</th>\n",
       "      <th>D1770</th>\n",
       "      <th>D1771</th>\n",
       "      <th>D1772</th>\n",
       "      <th>D1773</th>\n",
       "      <th>D1774</th>\n",
       "      <th>D1775</th>\n",
       "      <th>D1776</th>\n",
       "    </tr>\n",
       "  </thead>\n",
       "  <tbody>\n",
       "    <tr>\n",
       "      <th>0</th>\n",
       "      <td>1</td>\n",
       "      <td>0.000000</td>\n",
       "      <td>0.497009</td>\n",
       "      <td>0.10</td>\n",
       "      <td>0.0</td>\n",
       "      <td>0.132956</td>\n",
       "      <td>0.678031</td>\n",
       "      <td>0.273166</td>\n",
       "      <td>0.585445</td>\n",
       "      <td>0.743663</td>\n",
       "      <td>...</td>\n",
       "      <td>0</td>\n",
       "      <td>0</td>\n",
       "      <td>0</td>\n",
       "      <td>0</td>\n",
       "      <td>0</td>\n",
       "      <td>0</td>\n",
       "      <td>0</td>\n",
       "      <td>0</td>\n",
       "      <td>0</td>\n",
       "      <td>0</td>\n",
       "    </tr>\n",
       "    <tr>\n",
       "      <th>1</th>\n",
       "      <td>1</td>\n",
       "      <td>0.366667</td>\n",
       "      <td>0.606291</td>\n",
       "      <td>0.05</td>\n",
       "      <td>0.0</td>\n",
       "      <td>0.111209</td>\n",
       "      <td>0.803455</td>\n",
       "      <td>0.106105</td>\n",
       "      <td>0.411754</td>\n",
       "      <td>0.836582</td>\n",
       "      <td>...</td>\n",
       "      <td>1</td>\n",
       "      <td>1</td>\n",
       "      <td>1</td>\n",
       "      <td>1</td>\n",
       "      <td>0</td>\n",
       "      <td>1</td>\n",
       "      <td>0</td>\n",
       "      <td>0</td>\n",
       "      <td>1</td>\n",
       "      <td>0</td>\n",
       "    </tr>\n",
       "    <tr>\n",
       "      <th>2</th>\n",
       "      <td>1</td>\n",
       "      <td>0.033300</td>\n",
       "      <td>0.480124</td>\n",
       "      <td>0.00</td>\n",
       "      <td>0.0</td>\n",
       "      <td>0.209791</td>\n",
       "      <td>0.610350</td>\n",
       "      <td>0.356453</td>\n",
       "      <td>0.517720</td>\n",
       "      <td>0.679051</td>\n",
       "      <td>...</td>\n",
       "      <td>0</td>\n",
       "      <td>0</td>\n",
       "      <td>0</td>\n",
       "      <td>0</td>\n",
       "      <td>0</td>\n",
       "      <td>0</td>\n",
       "      <td>0</td>\n",
       "      <td>0</td>\n",
       "      <td>0</td>\n",
       "      <td>0</td>\n",
       "    </tr>\n",
       "    <tr>\n",
       "      <th>3</th>\n",
       "      <td>1</td>\n",
       "      <td>0.000000</td>\n",
       "      <td>0.538825</td>\n",
       "      <td>0.00</td>\n",
       "      <td>0.5</td>\n",
       "      <td>0.196344</td>\n",
       "      <td>0.724230</td>\n",
       "      <td>0.235606</td>\n",
       "      <td>0.288764</td>\n",
       "      <td>0.805110</td>\n",
       "      <td>...</td>\n",
       "      <td>0</td>\n",
       "      <td>0</td>\n",
       "      <td>0</td>\n",
       "      <td>0</td>\n",
       "      <td>0</td>\n",
       "      <td>0</td>\n",
       "      <td>0</td>\n",
       "      <td>0</td>\n",
       "      <td>0</td>\n",
       "      <td>0</td>\n",
       "    </tr>\n",
       "    <tr>\n",
       "      <th>4</th>\n",
       "      <td>0</td>\n",
       "      <td>0.100000</td>\n",
       "      <td>0.517794</td>\n",
       "      <td>0.00</td>\n",
       "      <td>0.0</td>\n",
       "      <td>0.494734</td>\n",
       "      <td>0.781422</td>\n",
       "      <td>0.154361</td>\n",
       "      <td>0.303809</td>\n",
       "      <td>0.812646</td>\n",
       "      <td>...</td>\n",
       "      <td>0</td>\n",
       "      <td>0</td>\n",
       "      <td>0</td>\n",
       "      <td>0</td>\n",
       "      <td>0</td>\n",
       "      <td>0</td>\n",
       "      <td>0</td>\n",
       "      <td>0</td>\n",
       "      <td>0</td>\n",
       "      <td>0</td>\n",
       "    </tr>\n",
       "  </tbody>\n",
       "</table>\n",
       "<p>5 rows × 1777 columns</p>\n",
       "</div>"
      ],
      "text/plain": [
       "   Activity        D1        D2    D3   D4        D5        D6        D7  \\\n",
       "0         1  0.000000  0.497009  0.10  0.0  0.132956  0.678031  0.273166   \n",
       "1         1  0.366667  0.606291  0.05  0.0  0.111209  0.803455  0.106105   \n",
       "2         1  0.033300  0.480124  0.00  0.0  0.209791  0.610350  0.356453   \n",
       "3         1  0.000000  0.538825  0.00  0.5  0.196344  0.724230  0.235606   \n",
       "4         0  0.100000  0.517794  0.00  0.0  0.494734  0.781422  0.154361   \n",
       "\n",
       "         D8        D9  ...  D1767  D1768  D1769  D1770  D1771  D1772  D1773  \\\n",
       "0  0.585445  0.743663  ...      0      0      0      0      0      0      0   \n",
       "1  0.411754  0.836582  ...      1      1      1      1      0      1      0   \n",
       "2  0.517720  0.679051  ...      0      0      0      0      0      0      0   \n",
       "3  0.288764  0.805110  ...      0      0      0      0      0      0      0   \n",
       "4  0.303809  0.812646  ...      0      0      0      0      0      0      0   \n",
       "\n",
       "   D1774  D1775  D1776  \n",
       "0      0      0      0  \n",
       "1      0      1      0  \n",
       "2      0      0      0  \n",
       "3      0      0      0  \n",
       "4      0      0      0  \n",
       "\n",
       "[5 rows x 1777 columns]"
      ]
     },
     "execution_count": 42,
     "metadata": {},
     "output_type": "execute_result"
    }
   ],
   "source": [
    "data = pd.read_csv('data/_train_sem09__1_.zip')\n",
    "data.head()"
   ]
  },
  {
   "cell_type": "code",
   "execution_count": 22,
   "metadata": {},
   "outputs": [
    {
     "data": {
      "text/plain": [
       "1    0.542255\n",
       "0    0.457745\n",
       "Name: Activity, dtype: float64"
      ]
     },
     "execution_count": 22,
     "metadata": {},
     "output_type": "execute_result"
    }
   ],
   "source": [
    "data['Activity'].value_counts(normalize=True)"
   ]
  },
  {
   "cell_type": "markdown",
   "metadata": {},
   "source": [
    "Выборку можно считать сбалансированной, тем не менее применим взвешивание классов при построении моделей. Этот метод не внесет искусственных данных в отличие от сэмплирования, наиболее незатратен с точки зрения написания кода и вычислительных ресурсов, и одновременно способен учесть небольшой дисбаланс выборки, а следовательно - потенциально улучшить результат. Также учтем этот небольшой дисбаланс при разбиении на тренировочную и тестовую выборки."
   ]
  },
  {
   "cell_type": "code",
   "execution_count": 23,
   "metadata": {},
   "outputs": [],
   "source": [
    "X, y = data.drop(columns='Activity'), data['Activity']\n",
    "X_train, X_test, y_train, y_test = train_test_split(X, y, test_size=0.25,\n",
    "    stratify=y, random_state=RANDOM_STATE)"
   ]
  },
  {
   "cell_type": "markdown",
   "metadata": {},
   "source": [
    "## 2. Базовые модели"
   ]
  },
  {
   "cell_type": "markdown",
   "metadata": {},
   "source": [
    "Строим базовые модели с параметрами по умолчанию. Классы взвешены. Количество итераций в соответствиии с требованиями задания - 50 (не достигается сходимость)."
   ]
  },
  {
   "cell_type": "code",
   "execution_count": 24,
   "metadata": {},
   "outputs": [
    {
     "name": "stderr",
     "output_type": "stream",
     "text": [
      "/home/dkudr/.local/lib/python3.9/site-packages/sklearn/linear_model/_logistic.py:444: ConvergenceWarning: lbfgs failed to converge (status=1):\n",
      "STOP: TOTAL NO. of ITERATIONS REACHED LIMIT.\n",
      "\n",
      "Increase the number of iterations (max_iter) or scale the data as shown in:\n",
      "    https://scikit-learn.org/stable/modules/preprocessing.html\n",
      "Please also refer to the documentation for alternative solver options:\n",
      "    https://scikit-learn.org/stable/modules/linear_model.html#logistic-regression\n",
      "  n_iter_i = _check_optimize_result(\n"
     ]
    }
   ],
   "source": [
    "# Логистическая регрессия\n",
    "\n",
    "logregr = LogisticRegression(class_weight='balanced', n_jobs=-1,\n",
    "                             random_state=RANDOM_STATE, max_iter=50)\n",
    "logregr.fit(X_train, y_train)\n",
    "y_train_pred = logregr.predict(X_train)\n",
    "y_test_pred = logregr.predict(X_test)"
   ]
  },
  {
   "cell_type": "code",
   "execution_count": 25,
   "metadata": {},
   "outputs": [
    {
     "name": "stdout",
     "output_type": "stream",
     "text": [
      "F1 на тренировочной выборке: 0.8815572418343781\n",
      "F1 на тестовой выборке: 0.7741935483870969\n"
     ]
    }
   ],
   "source": [
    "print(f'F1 на тренировочной выборке: {f1_score(y_train, y_train_pred)}')\n",
    "print(f'F1 на тестовой выборке: {f1_score(y_test, y_test_pred)}')"
   ]
  },
  {
   "cell_type": "code",
   "execution_count": 26,
   "metadata": {},
   "outputs": [
    {
     "name": "stdout",
     "output_type": "stream",
     "text": [
      "F1 на тренировочной выборке: 1.0\n",
      "F1 на тестовой выборке: 0.7961538461538461\n"
     ]
    }
   ],
   "source": [
    "# Случайный лес\n",
    "\n",
    "rforest = RandomForestClassifier(class_weight='balanced', n_jobs=-1,\n",
    "                                 random_state=RANDOM_STATE)\n",
    "rforest.fit(X_train, y_train)\n",
    "y_train_pred = rforest.predict(X_train)\n",
    "y_test_pred = rforest.predict(X_test)\n",
    "print(f'F1 на тренировочной выборке: {f1_score(y_train, y_train_pred)}')\n",
    "print(f'F1 на тестовой выборке: {f1_score(y_test, y_test_pred)}')"
   ]
  },
  {
   "cell_type": "markdown",
   "metadata": {},
   "source": [
    "## 3. Оптимизация гиперпараметров GridSearchCV"
   ]
  },
  {
   "cell_type": "markdown",
   "metadata": {},
   "source": [
    "### 3.1. Логистическая регрессия"
   ]
  },
  {
   "cell_type": "code",
   "execution_count": null,
   "metadata": {},
   "outputs": [],
   "source": [
    "# Сетка гиперпараметров\n",
    "param_grid = [\n",
    "    \n",
    "    {'solver': ['saga'],\n",
    "    'penalty': ['l1', 'l2'],\n",
    "    'C': [0.01, 0.05, 0.1, 0.5, 1.]},\n",
    "                 \n",
    "    {'solver': ['lbfgs'],\n",
    "    'penalty': ['l2'],\n",
    "    'C': [0.01, 0.05, 0.1, 0.5, 1.]},\n",
    "    \n",
    "    {'solver': ['saga'],\n",
    "    'penalty': ['none']},\n",
    "]\n",
    "\n",
    "# Поиск по сетке параметров с кросс-валидацией (5 фолдов)\n",
    "grid_search_lr = GridSearchCV(\n",
    "    estimator=LogisticRegression(class_weight='balanced', \n",
    "        random_state=RANDOM_STATE, max_iter=50\n",
    "    ), \n",
    "    param_grid=param_grid, \n",
    "    scoring = 'f1',\n",
    "    cv=5, \n",
    "    n_jobs = -1\n",
    ")  \n",
    "grid_search_lr.fit(X_train, y_train) \n",
    "y_train_pred = grid_search_lr.predict(X_train)\n",
    "y_test_pred = grid_search_lr.predict(X_test)"
   ]
  },
  {
   "cell_type": "code",
   "execution_count": 28,
   "metadata": {},
   "outputs": [
    {
     "name": "stdout",
     "output_type": "stream",
     "text": [
      "F1 на кросс-валидации: 0.8414514547237659\n",
      "F1 на тестовой выборке: 0.7782101167315175\n",
      "Наилучшие значения гиперпараметров: {'C': 0.05, 'penalty': 'l2', 'solver': 'lbfgs'}\n"
     ]
    }
   ],
   "source": [
    "print(f'F1 на кросс-валидации: {f1_score(y_train, y_train_pred)}')\n",
    "print(f'F1 на тестовой выборке: {f1_score(y_test, y_test_pred)}')\n",
    "print(f'Наилучшие значения гиперпараметров: {grid_search_lr.best_params_}')"
   ]
  },
  {
   "cell_type": "markdown",
   "metadata": {},
   "source": [
    "### 3.2. Случайный лес"
   ]
  },
  {
   "cell_type": "code",
   "execution_count": 29,
   "metadata": {},
   "outputs": [
    {
     "name": "stdout",
     "output_type": "stream",
     "text": [
      "F1 на кросс-валидации: 0.9526315789473684\n",
      "F1 на тестовой выборке: 0.7925270403146509\n",
      "Наилучшие значения гиперпараметров: {'criterion': 'entropy', 'max_depth': 50, 'min_samples_leaf': 5, 'n_estimators': 300}\n"
     ]
    }
   ],
   "source": [
    "# Сетка параметров\n",
    "param_grid = [\n",
    "    \n",
    "    {'n_estimators': [100, 200, 300],\n",
    "     'criterion': ['gini', 'entropy'],\n",
    "     'max_depth': [5, 10, 50],\n",
    "     'min_samples_leaf': [5, 50]\n",
    "    }\n",
    "]\n",
    "\n",
    "# Поиск по сетке параметров с кросс-валидацией (5 фолдов)\n",
    "grid_search_rf = GridSearchCV(\n",
    "    estimator = RandomForestClassifier(class_weight='balanced', n_jobs=-1,\n",
    "                                 random_state=RANDOM_STATE), \n",
    "    param_grid=param_grid, \n",
    "    scoring = 'f1',\n",
    "    cv=5, \n",
    "    n_jobs = -1\n",
    ")  \n",
    "grid_search_rf.fit(X_train, y_train) \n",
    "y_train_pred = grid_search_rf.predict(X_train)\n",
    "y_test_pred = grid_search_rf.predict(X_test)\n",
    "print(f'F1 на кросс-валидации: {f1_score(y_train, y_train_pred)}')\n",
    "print(f'F1 на тестовой выборке: {f1_score(y_test, y_test_pred)}')\n",
    "print(f'Наилучшие значения гиперпараметров: {grid_search_rf.best_params_}')"
   ]
  },
  {
   "cell_type": "markdown",
   "metadata": {},
   "source": [
    "## 4. Оптимизация гиперпараметров RandomizedSearchCV"
   ]
  },
  {
   "cell_type": "markdown",
   "metadata": {},
   "source": [
    "### 4.1. Логистическая регрессия"
   ]
  },
  {
   "cell_type": "code",
   "execution_count": null,
   "metadata": {},
   "outputs": [],
   "source": [
    "# Пространство параметров: создаем несколько словарей с наборами параметров, \n",
    "# т.к. L-BFGS оптимизатор не работает c L1-регуляризацией. \n",
    "#\n",
    "# Параметр регуляризации выбирается случайным образом из равномерного распределения\n",
    "param_distr = [\n",
    "    \n",
    "    {'solver': ['saga'],\n",
    "    'penalty': ['l1', 'l2'],\n",
    "    'C': uniform(loc=0.01, scale=1)},\n",
    "                 \n",
    "    {'solver': ['lbfgs'],\n",
    "    'penalty': ['l2'],\n",
    "    'C': uniform(loc=0.01, scale=1)},\n",
    "    \n",
    "    {'solver': ['saga'],\n",
    "    'penalty': ['none']},\n",
    "]\n",
    "\n",
    "# Случайный поиск по распределению параметров с кросс-валидацией (5 фолдов)\n",
    "random_search_lr = RandomizedSearchCV(\n",
    "    estimator=LogisticRegression(class_weight='balanced', \n",
    "        random_state=RANDOM_STATE, max_iter=50\n",
    "    ), \n",
    "    param_distributions=param_distr, \n",
    "    scoring = 'f1',\n",
    "    cv=5,\n",
    "    n_iter=20,  # 20 случайных наборов параметров\n",
    "    n_jobs = -1\n",
    ")  \n",
    "random_search_lr.fit(X_train, y_train) \n",
    "y_train_pred = random_search_lr.predict(X_train)\n",
    "y_test_pred = random_search_lr.predict(X_test)"
   ]
  },
  {
   "cell_type": "code",
   "execution_count": 31,
   "metadata": {},
   "outputs": [
    {
     "name": "stdout",
     "output_type": "stream",
     "text": [
      "F1 на кросс-валидации: 0.8466057441253264\n",
      "F1 на тестовой выборке: 0.7793974732750243\n",
      "Наилучшие значения гиперпараметров: {'C': 0.06641157902710025, 'penalty': 'l2', 'solver': 'lbfgs'}\n"
     ]
    }
   ],
   "source": [
    "print(f'F1 на кросс-валидации: {f1_score(y_train, y_train_pred)}')\n",
    "print(f'F1 на тестовой выборке: {f1_score(y_test, y_test_pred)}')\n",
    "print(f'Наилучшие значения гиперпараметров: {random_search_lr.best_params_}')"
   ]
  },
  {
   "cell_type": "markdown",
   "metadata": {},
   "source": [
    "### 4.2. Случайный лес"
   ]
  },
  {
   "cell_type": "code",
   "execution_count": 32,
   "metadata": {},
   "outputs": [
    {
     "name": "stdout",
     "output_type": "stream",
     "text": [
      "F1 на кросс-валидации: 0.9501485638824695\n",
      "F1 на тестовой выборке: 0.7917888563049853\n",
      "Наилучшие значения гиперпараметров: {'n_estimators': 100, 'min_samples_leaf': 5, 'max_depth': 91, 'criterion': 'entropy'}\n"
     ]
    }
   ],
   "source": [
    "# Распределение параметров (в виде неслучайной сетки)\n",
    "param_distr = [\n",
    "    \n",
    "    {'n_estimators': list(range(100, 500, 100)),\n",
    "     'criterion': ['gini', 'entropy'],\n",
    "     'max_depth': list(range(1, 100, 5)),\n",
    "     'min_samples_leaf': list(range(5, 100, 5))\n",
    "    }\n",
    "]\n",
    "\n",
    "# Случайный поиск по распределению параметров с кросс-валидацией (5 фолдов)\n",
    "random_search_rf = RandomizedSearchCV(\n",
    "    estimator = RandomForestClassifier(class_weight='balanced', n_jobs=-1,\n",
    "                                 random_state=RANDOM_STATE),\n",
    "    param_distributions=param_distr, \n",
    "    scoring = 'f1',\n",
    "    cv=5,\n",
    "    n_iter=20, # 20 случайных наборов параметров\n",
    "    n_jobs = -1\n",
    ")  \n",
    "random_search_rf.fit(X_train, y_train) \n",
    "y_train_pred = random_search_rf.predict(X_train)\n",
    "y_test_pred = random_search_rf.predict(X_test)\n",
    "print(f'F1 на кросс-валидации: {f1_score(y_train, y_train_pred)}')\n",
    "print(f'F1 на тестовой выборке: {f1_score(y_test, y_test_pred)}')\n",
    "print(f'Наилучшие значения гиперпараметров: {random_search_rf.best_params_}')"
   ]
  },
  {
   "cell_type": "markdown",
   "metadata": {},
   "source": [
    "## 5. Оптимизация гиперпараметров Hyperopt"
   ]
  },
  {
   "cell_type": "markdown",
   "metadata": {},
   "source": [
    "### 5.1. Логистическая регрессия"
   ]
  },
  {
   "cell_type": "markdown",
   "metadata": {},
   "source": [
    "**!!! Внимание !!!**\n",
    "\n",
    "Запуск следующей ячейки выводит большое количество предупреждающих сообщений из-за нехватки количества шагов (max_iter=50) для сходимости логистической регрессии"
   ]
  },
  {
   "cell_type": "code",
   "execution_count": null,
   "metadata": {},
   "outputs": [],
   "source": [
    "# Пространство параметров: создаем несколько словарей с наборами параметров, \n",
    "# т.к. L-BFGS оптимизатор не работает c L1-регуляризацией.\n",
    "#\n",
    "# Параметр регуляризации выбирается случайным образом из равномерного распределения\n",
    "space = hp.choice('parameter_combinations', [\n",
    "        {'solver': 'saga',\n",
    "         'penalty': hp.choice('penalty', ['l1', 'l2']),\n",
    "         'C': hp.uniform('C_saga', 0.01, 1)\n",
    "        },\n",
    "        \n",
    "        {'solver': 'lbfgs',\n",
    "        'penalty': 'l2',\n",
    "        'C': hp.uniform('C_lbfgs', 0.01, 1)\n",
    "        }\n",
    "        ]\n",
    ")\n",
    "\n",
    "\n",
    "# Целевая функция\n",
    "def obj_func(params, cv=5, X=X_train, y=y_train, random_state=RANDOM_STATE):\n",
    "    params = {'solver': params['solver'], \n",
    "              'penalty': params['penalty'], \n",
    "              'C': params['C']\n",
    "             }\n",
    "      \n",
    "    model = LogisticRegression(**params, class_weight='balanced', \n",
    "        random_state=random_state, max_iter=50\n",
    "    )\n",
    "      \n",
    "    # Обучаем модель с помощью кросс-валидации\n",
    "    score = cross_val_score(model, X, y, cv=cv, scoring='f1', n_jobs=-1).mean()\n",
    "\n",
    "    return -score \n",
    "\n",
    "\n",
    "trials = Trials()\n",
    "best=fmin(obj_func, \n",
    "          space=space, \n",
    "          algo=tpe.suggest, \n",
    "          max_evals=20, \n",
    "          trials=trials, \n",
    "          #rstate=np.random.RandomState(random_state)\n",
    "          rstate=np.random.default_rng(RANDOM_STATE)\n",
    "         )"
   ]
  },
  {
   "cell_type": "code",
   "execution_count": 34,
   "metadata": {},
   "outputs": [
    {
     "name": "stdout",
     "output_type": "stream",
     "text": [
      "Наилучшие значения гиперпараметров: {'C_saga': 0.10567819922023905, 'parameter_combinations': 0, 'penalty': 1}\n"
     ]
    }
   ],
   "source": [
    "print(f'Наилучшие значения гиперпараметров: {best}')"
   ]
  },
  {
   "cell_type": "code",
   "execution_count": null,
   "metadata": {},
   "outputs": [],
   "source": [
    "# Расчет метрики для лучших найденных гиперпараметров \n",
    "\n",
    "best_params = {'solver': 'saga',\n",
    "          'penalty': 'l2', \n",
    "          'C': 0.10567819922023905\n",
    "}\n",
    "\n",
    "# Модель с лучшими параметрами\n",
    "hyperopt_lr = LogisticRegression(**best_params, class_weight='balanced',\n",
    "                                   random_state=RANDOM_STATE, max_iter=50\n",
    ")\n",
    "hyperopt_lr.fit(X_train, y_train)\n",
    "y_train_pred = hyperopt_lr.predict(X_train)\n",
    "y_test_pred = hyperopt_lr.predict(X_test)"
   ]
  },
  {
   "cell_type": "code",
   "execution_count": 36,
   "metadata": {},
   "outputs": [
    {
     "name": "stdout",
     "output_type": "stream",
     "text": [
      "F1 на кросс-валидации: 0.785703037819934\n",
      "F1 на тренировочной выборке: 0.8528449967298888\n",
      "F1 на тестовой выборке: 0.78125\n"
     ]
    }
   ],
   "source": [
    "best_score = (np.array(list(x['result']['loss'] \n",
    "                            for x in trials.trials)) * (-1)).max()\n",
    "print(f'F1 на кросс-валидации: {best_score}')\n",
    "print(f'F1 на тренировочной выборке: {f1_score(y_train, y_train_pred)}')\n",
    "print(f'F1 на тестовой выборке: {f1_score(y_test, y_test_pred)}')"
   ]
  },
  {
   "cell_type": "markdown",
   "metadata": {},
   "source": [
    "### 5.2. Случайный лес"
   ]
  },
  {
   "cell_type": "code",
   "execution_count": 37,
   "metadata": {},
   "outputs": [
    {
     "name": "stdout",
     "output_type": "stream",
     "text": [
      "100%|██████████| 20/20 [00:25<00:00,  1.28s/trial, best loss: -0.8053634061624386]\n",
      "Наилучшие значения гиперпараметров: {'criterion': 0, 'max_depth': 28.0, 'min_samples_leaf': 6.0, 'n_estimators': 114.0}\n"
     ]
    }
   ],
   "source": [
    "# Пространство параметров \n",
    "space={'n_estimators': hp.quniform('n_estimators', 100, 500, 1),\n",
    "       'criterion': hp.choice('criterion', ['gini', 'entropy']),\n",
    "       'max_depth' : hp.quniform('max_depth', 1, 100, 1),\n",
    "       'min_samples_leaf': hp.quniform('min_samples_leaf', 2, 100, 1)\n",
    "      }\n",
    "\n",
    "\n",
    "# Целевая функция\n",
    "def obj_func(params, cv=5, X=X_train, y=y_train, random_state=RANDOM_STATE):\n",
    "    params = {'n_estimators': int(params['n_estimators']),\n",
    "              'criterion': params['criterion'],\n",
    "              'max_depth': int(params['max_depth']), \n",
    "              'min_samples_leaf': int(params['min_samples_leaf'])\n",
    "             }\n",
    "  \n",
    "    model = RandomForestClassifier(**params, class_weight='balanced', \n",
    "                                   n_jobs=-1, random_state=random_state)\n",
    "    \n",
    "    # Обучаем модель с помощью кросс-валидации    \n",
    "    score = cross_val_score(model, X, y, cv=cv, scoring='f1', n_jobs=-1).mean()\n",
    "    \n",
    "    return -score\n",
    "\n",
    "\n",
    "trials = Trials()\n",
    "best=fmin(obj_func, \n",
    "          space=space, \n",
    "          algo=tpe.suggest, \n",
    "          max_evals=20, \n",
    "          trials=trials, \n",
    "          #rstate=np.random.RandomState(random_state)\n",
    "          rstate=np.random.default_rng(RANDOM_STATE)\n",
    "         )\n",
    "print(f'Наилучшие значения гиперпараметров: {best}')"
   ]
  },
  {
   "cell_type": "code",
   "execution_count": 38,
   "metadata": {},
   "outputs": [
    {
     "name": "stdout",
     "output_type": "stream",
     "text": [
      "F1 на кросс-валидации: 0.8053634061624386\n",
      "F1 на тренировочной выборке: 0.9312273774267851\n",
      "F1 на тестовой выборке: 0.7808764940239044\n"
     ]
    }
   ],
   "source": [
    "# Расчет метрики для лучших найденных гиперпараметров \n",
    "\n",
    "best_score = (np.array(list(x['result']['loss'] \n",
    "                            for x in trials.trials)) * (-1)).max()\n",
    "print(f'F1 на кросс-валидации: {best_score}')\n",
    "\n",
    "best_params = {\n",
    "    'n_estimators': int(best['n_estimators']),\n",
    "    'criterion': 'gini',\n",
    "    'max_depth': int(best['max_depth']),\n",
    "    'min_samples_leaf': int(best['min_samples_leaf'])\n",
    "}\n",
    "\n",
    "# Модель с лучшими параметрами\n",
    "hyperopt_rf = RandomForestClassifier(**best_params, class_weight='balanced',\n",
    "                                 n_jobs=-1, random_state=RANDOM_STATE)\n",
    "hyperopt_rf.fit(X_train, y_train)\n",
    "y_train_pred = hyperopt_rf.predict(X_train)\n",
    "y_test_pred = hyperopt_rf.predict(X_test)\n",
    "print(f'F1 на тренировочной выборке: {f1_score(y_train, y_train_pred)}')\n",
    "print(f'F1 на тестовой выборке: {f1_score(y_test, y_test_pred)}')"
   ]
  },
  {
   "cell_type": "markdown",
   "metadata": {},
   "source": [
    "## 6. Оптимизация гиперпараметров Optuna"
   ]
  },
  {
   "cell_type": "markdown",
   "metadata": {},
   "source": [
    "### 6.1. Логистическая регрессия"
   ]
  },
  {
   "cell_type": "code",
   "execution_count": null,
   "metadata": {},
   "outputs": [],
   "source": [
    "# Целевая функция\n",
    "def obj_func(trial):\n",
    "    # пространство гиперпараметров\n",
    "    solver = trial.suggest_categorical('solver', ['saga', 'lbfgs'])\n",
    "    if solver == 'saga':\n",
    "        penalty = trial.suggest_categorical('penalty', ['l1', 'l2'])\n",
    "    else:\n",
    "        penalty = 'l2'\n",
    "    C = trial.suggest_uniform('C', 0.01, 1)\n",
    "    \n",
    "    model = LogisticRegression(\n",
    "        solver=solver,\n",
    "        penalty=penalty,\n",
    "        C=C,\n",
    "        class_weight='balanced', \n",
    "        random_state=RANDOM_STATE, \n",
    "        max_iter=50\n",
    "    )    \n",
    "    \n",
    "    # Обучаем модель с помощью кросс-валидации    \n",
    "    score = cross_val_score(\n",
    "        model, X_train, y_train, cv=5, scoring='f1', n_jobs=-1).mean()\n",
    "    \n",
    "    return score\n",
    "\n",
    "\n",
    "# Поиск оптимальных гиперпараметров\n",
    "sampler = optuna.samplers.TPESampler(seed=RANDOM_STATE)\n",
    "study_lr = optuna.create_study(\n",
    "    sampler=sampler, study_name='LogisticRegression', direction='maximize')\n",
    "study_lr.optimize(obj_func, n_trials=20)\n",
    "\n",
    "\n",
    "# Модель с лучшими параметрами\n",
    "optuna_lr = LogisticRegression(\n",
    "    **study_lr.best_params, class_weight='balanced', n_jobs=-1,\n",
    "    random_state=RANDOM_STATE, max_iter=50\n",
    ")\n",
    "optuna_lr.fit(X_train, y_train)\n",
    "y_train_pred = optuna_lr.predict(X_train)\n",
    "y_test_pred = optuna_lr.predict(X_test)"
   ]
  },
  {
   "cell_type": "code",
   "execution_count": 40,
   "metadata": {},
   "outputs": [
    {
     "name": "stdout",
     "output_type": "stream",
     "text": [
      "Наилучшие значения гиперпараметров: {'solver': 'lbfgs', 'C': 0.03037864935284442}\n",
      "F1 на кросс-валидации: 0.788178619142245\n",
      "F1 на тренировочной выборке: 0.8324077098987259\n",
      "F1 на тестовой выборке: 0.7738791423001949\n"
     ]
    }
   ],
   "source": [
    "print(f'Наилучшие значения гиперпараметров: {study_lr.best_params}')\n",
    "print(f'F1 на кросс-валидации: {study_lr.best_value}')\n",
    "print(f'F1 на тренировочной выборке: {f1_score(y_train, y_train_pred)}')\n",
    "print(f'F1 на тестовой выборке: {f1_score(y_test, y_test_pred)}')"
   ]
  },
  {
   "cell_type": "markdown",
   "metadata": {},
   "source": [
    "### 6.2. Случайный лес"
   ]
  },
  {
   "cell_type": "code",
   "execution_count": 41,
   "metadata": {},
   "outputs": [
    {
     "name": "stderr",
     "output_type": "stream",
     "text": [
      "\u001b[32m[I 2022-06-14 11:45:45,908]\u001b[0m A new study created in memory with name: RandomForestClassifier\u001b[0m\n",
      "\u001b[32m[I 2022-06-14 11:45:47,317]\u001b[0m Trial 0 finished with value: 0.7831966399562867 and parameters: {'n_estimators': 250, 'criterion': 'gini', 'max_depth': 60, 'min_samples_leaf': 17}. Best is trial 0 with value: 0.7831966399562867.\u001b[0m\n",
      "\u001b[32m[I 2022-06-14 11:45:48,109]\u001b[0m Trial 1 finished with value: 0.731543003621627 and parameters: {'n_estimators': 162, 'criterion': 'entropy', 'max_depth': 61, 'min_samples_leaf': 72}. Best is trial 0 with value: 0.7831966399562867.\u001b[0m\n",
      "\u001b[32m[I 2022-06-14 11:45:48,806]\u001b[0m Trial 2 finished with value: 0.7723552409530227 and parameters: {'n_estimators': 108, 'criterion': 'gini', 'max_depth': 22, 'min_samples_leaf': 20}. Best is trial 0 with value: 0.7831966399562867.\u001b[0m\n",
      "\u001b[32m[I 2022-06-14 11:45:49,832]\u001b[0m Trial 3 finished with value: 0.7658886633515352 and parameters: {'n_estimators': 173, 'criterion': 'entropy', 'max_depth': 44, 'min_samples_leaf': 30}. Best is trial 0 with value: 0.7831966399562867.\u001b[0m\n",
      "\u001b[32m[I 2022-06-14 11:45:51,369]\u001b[0m Trial 4 finished with value: 0.7530892563184566 and parameters: {'n_estimators': 345, 'criterion': 'entropy', 'max_depth': 37, 'min_samples_leaf': 47}. Best is trial 0 with value: 0.7831966399562867.\u001b[0m\n",
      "\u001b[32m[I 2022-06-14 11:45:54,713]\u001b[0m Trial 5 finished with value: 0.8140803903493727 and parameters: {'n_estimators': 414, 'criterion': 'entropy', 'max_depth': 60, 'min_samples_leaf': 6}. Best is trial 5 with value: 0.8140803903493727.\u001b[0m\n",
      "\u001b[32m[I 2022-06-14 11:45:55,986]\u001b[0m Trial 6 finished with value: 0.7227115004180222 and parameters: {'n_estimators': 343, 'criterion': 'gini', 'max_depth': 95, 'min_samples_leaf': 97}. Best is trial 5 with value: 0.8140803903493727.\u001b[0m\n",
      "\u001b[32m[I 2022-06-14 11:45:57,768]\u001b[0m Trial 7 finished with value: 0.7524643917093641 and parameters: {'n_estimators': 424, 'criterion': 'gini', 'max_depth': 69, 'min_samples_leaf': 45}. Best is trial 5 with value: 0.8140803903493727.\u001b[0m\n",
      "\u001b[32m[I 2022-06-14 11:45:58,680]\u001b[0m Trial 8 finished with value: 0.7633622195308107 and parameters: {'n_estimators': 148, 'criterion': 'gini', 'max_depth': 91, 'min_samples_leaf': 27}. Best is trial 5 with value: 0.8140803903493727.\u001b[0m\n",
      "\u001b[32m[I 2022-06-14 11:46:00,789]\u001b[0m Trial 9 finished with value: 0.7744547263483635 and parameters: {'n_estimators': 365, 'criterion': 'entropy', 'max_depth': 55, 'min_samples_leaf': 20}. Best is trial 5 with value: 0.8140803903493727.\u001b[0m\n",
      "\u001b[32m[I 2022-06-14 11:46:02,055]\u001b[0m Trial 10 finished with value: 0.7023063677362387 and parameters: {'n_estimators': 490, 'criterion': 'entropy', 'max_depth': 1, 'min_samples_leaf': 3}. Best is trial 5 with value: 0.8140803903493727.\u001b[0m\n",
      "\u001b[32m[I 2022-06-14 11:46:03,979]\u001b[0m Trial 11 finished with value: 0.8209361721872475 and parameters: {'n_estimators': 249, 'criterion': 'gini', 'max_depth': 75, 'min_samples_leaf': 3}. Best is trial 11 with value: 0.8209361721872475.\u001b[0m\n",
      "\u001b[32m[I 2022-06-14 11:46:06,056]\u001b[0m Trial 12 finished with value: 0.8196391111094297 and parameters: {'n_estimators': 245, 'criterion': 'gini', 'max_depth': 78, 'min_samples_leaf': 2}. Best is trial 11 with value: 0.8209361721872475.\u001b[0m\n",
      "\u001b[32m[I 2022-06-14 11:46:07,252]\u001b[0m Trial 13 finished with value: 0.7349157425419256 and parameters: {'n_estimators': 253, 'criterion': 'gini', 'max_depth': 81, 'min_samples_leaf': 63}. Best is trial 11 with value: 0.8209361721872475.\u001b[0m\n",
      "\u001b[32m[I 2022-06-14 11:46:09,377]\u001b[0m Trial 14 finished with value: 0.8196391111094297 and parameters: {'n_estimators': 245, 'criterion': 'gini', 'max_depth': 77, 'min_samples_leaf': 2}. Best is trial 11 with value: 0.8209361721872475.\u001b[0m\n",
      "\u001b[32m[I 2022-06-14 11:46:10,425]\u001b[0m Trial 15 finished with value: 0.7595794796221889 and parameters: {'n_estimators': 221, 'criterion': 'gini', 'max_depth': 100, 'min_samples_leaf': 36}. Best is trial 11 with value: 0.8209361721872475.\u001b[0m\n",
      "\u001b[32m[I 2022-06-14 11:46:11,587]\u001b[0m Trial 16 finished with value: 0.7335860983290636 and parameters: {'n_estimators': 300, 'criterion': 'gini', 'max_depth': 80, 'min_samples_leaf': 65}. Best is trial 11 with value: 0.8209361721872475.\u001b[0m\n",
      "\u001b[32m[I 2022-06-14 11:46:13,397]\u001b[0m Trial 17 finished with value: 0.7894355422415937 and parameters: {'n_estimators': 306, 'criterion': 'gini', 'max_depth': 73, 'min_samples_leaf': 13}. Best is trial 11 with value: 0.8209361721872475.\u001b[0m\n",
      "\u001b[32m[I 2022-06-14 11:46:14,492]\u001b[0m Trial 18 finished with value: 0.7571315701586963 and parameters: {'n_estimators': 200, 'criterion': 'gini', 'max_depth': 87, 'min_samples_leaf': 34}. Best is trial 11 with value: 0.8209361721872475.\u001b[0m\n",
      "\u001b[32m[I 2022-06-14 11:46:15,019]\u001b[0m Trial 19 finished with value: 0.7250843962675751 and parameters: {'n_estimators': 105, 'criterion': 'gini', 'max_depth': 32, 'min_samples_leaf': 89}. Best is trial 11 with value: 0.8209361721872475.\u001b[0m\n"
     ]
    },
    {
     "name": "stdout",
     "output_type": "stream",
     "text": [
      "Наилучшие значения гиперпараметров: {'n_estimators': 249, 'criterion': 'gini', 'max_depth': 75, 'min_samples_leaf': 3}\n",
      "F1 на кросс-валидации: 0.8209361721872475\n",
      "F1 на тренировочной выборке: 0.9747789059941041\n",
      "F1 на тестовой выборке: 0.7988338192419825\n"
     ]
    }
   ],
   "source": [
    "# Целевая функция\n",
    "def obj_func(trial):\n",
    "    # пространство гиперпараметров\n",
    "    n_estimators = trial.suggest_int('n_estimators', 100, 500, 1)\n",
    "    criterion = trial.suggest_categorical('criterion', ['gini', 'entropy'])\n",
    "    max_depth = trial.suggest_int('max_depth', 1, 100, 1)\n",
    "    min_samples_leaf = trial.suggest_int('min_samples_leaf', 2, 100, 1)\n",
    "  \n",
    "    # модель\n",
    "    model = RandomForestClassifier(\n",
    "        n_estimators=n_estimators,\n",
    "        criterion=criterion,\n",
    "        max_depth=max_depth,\n",
    "        min_samples_leaf=min_samples_leaf,\n",
    "        class_weight='balanced', n_jobs=-1,\n",
    "        random_state=RANDOM_STATE\n",
    "    )\n",
    "  \n",
    "    # Обучаем модель с помощью кросс-валидации    \n",
    "    score = cross_val_score(\n",
    "        model, X_train, y_train, cv=5, scoring='f1', n_jobs=-1).mean()\n",
    "    \n",
    "    return score\n",
    "\n",
    "\n",
    "# Поиск оптимальных гиперпараметров\n",
    "sampler = optuna.samplers.TPESampler(seed=RANDOM_STATE)\n",
    "study_rf = optuna.create_study(\n",
    "    sampler=sampler, study_name='RandomForestClassifier', direction='maximize')\n",
    "study_rf.optimize(obj_func, n_trials=20)\n",
    "print(f'Наилучшие значения гиперпараметров: {study_rf.best_params}')\n",
    "print(f'F1 на кросс-валидации: {study_rf.best_value}')\n",
    "\n",
    "\n",
    "# Модель с лучшими параметрами  \n",
    "optuna_rf = RandomForestClassifier(\n",
    "    **study_rf.best_params, class_weight='balanced', n_jobs=-1,\n",
    "    random_state=RANDOM_STATE\n",
    ")\n",
    "optuna_rf.fit(X_train, y_train)\n",
    "y_train_pred = optuna_rf.predict(X_train)\n",
    "y_test_pred = optuna_rf.predict(X_test)\n",
    "print(f'F1 на тренировочной выборке: {f1_score(y_train, y_train_pred)}')\n",
    "print(f'F1 на тестовой выборке: {f1_score(y_test, y_test_pred)}')"
   ]
  }
 ],
 "metadata": {
  "kernelspec": {
   "display_name": "Python 3.9.2 64-bit",
   "language": "python",
   "name": "python3"
  },
  "language_info": {
   "codemirror_mode": {
    "name": "ipython",
    "version": 3
   },
   "file_extension": ".py",
   "mimetype": "text/x-python",
   "name": "python",
   "nbconvert_exporter": "python",
   "pygments_lexer": "ipython3",
   "version": "3.9.2"
  },
  "orig_nbformat": 4,
  "vscode": {
   "interpreter": {
    "hash": "916dbcbb3f70747c44a77c7bcd40155683ae19c65e1c03b4aa3499c5328201f1"
   }
  }
 },
 "nbformat": 4,
 "nbformat_minor": 2
}
